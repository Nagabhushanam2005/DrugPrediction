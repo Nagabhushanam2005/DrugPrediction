{
  "nbformat": 4,
  "nbformat_minor": 0,
  "metadata": {
    "colab": {
      "provenance": []
    },
    "kernelspec": {
      "name": "python3",
      "display_name": "Python 3"
    },
    "language_info": {
      "name": "python"
    }
  },
  "cells": [
    {
      "cell_type": "code",
      "execution_count": null,
      "metadata": {
        "colab": {
          "base_uri": "https://localhost:8080/"
        },
        "id": "wKV0Ro-GseNO",
        "outputId": "3988fec2-b9b9-46b7-b2c1-0fb3cd46617b"
      },
      "outputs": [
        {
          "output_type": "stream",
          "name": "stdout",
          "text": [
            "Mounted at /content/drive\n"
          ]
        }
      ],
      "source": [
        "from google.colab import drive\n",
        "drive.mount(\"/content/drive\")"
      ]
    },
    {
      "cell_type": "code",
      "source": [
        "import pandas as pd\n",
        "from sklearn.linear_model import LogisticRegression\n",
        "from sklearn.metrics import accuracy_score\n",
        "from sklearn.model_selection import train_test_split\n",
        "import random"
      ],
      "metadata": {
        "id": "64L4RRH1tX5H"
      },
      "execution_count": 114,
      "outputs": []
    },
    {
      "cell_type": "markdown",
      "source": [
        "**Load data from CSV file**"
      ],
      "metadata": {
        "id": "fUXXNF2Tcmvh"
      }
    },
    {
      "cell_type": "code",
      "source": [
        "data = pd.read_csv('/content/drive/MyDrive/Drug_Assignment/drug200.csv')"
      ],
      "metadata": {
        "id": "QxnmCci8cucl"
      },
      "execution_count": 115,
      "outputs": []
    },
    {
      "cell_type": "markdown",
      "source": [
        "**Modify data to have the given features and target values**\n"
      ],
      "metadata": {
        "id": "HztpK57WczUu"
      }
    },
    {
      "cell_type": "code",
      "source": [
        "age=data['Age']\n",
        "sex=data['Sex']\n",
        "bp=data['BP']\n",
        "chole=data['Cholesterol']\n",
        "nak=data['Na_to_K']\n",
        "sex_=[1 if i=='M' else 0 for i in sex]\n",
        "bp_=[1 if i=='HIGH' else( 0 if i=='NORMAL' else -1) for i in bp]\n",
        "chole_=[1 if i=='HIGH' else 0 for i in chole]\n",
        "arr2=list(data['Drug'])\n",
        "j=0\n",
        "y=[]\n",
        "for i in arr2:\n",
        "  if(i[-1]=='X'):\n",
        "    y.append(0)\n",
        "    j+=1\n",
        "  if(i[-1]=='Y'):\n",
        "    y.append(2)\n",
        "    j+=1\n",
        "  if(i[-1]=='A'):\n",
        "    y.append(3)\n",
        "    j+=1\n",
        "  if(i[-1]=='B'):\n",
        "    y.append(4)\n",
        "    j+=1\n",
        "  if(i[-1]=='C'):\n",
        "    y.append(1)\n",
        "    j+=1"
      ],
      "metadata": {
        "id": "opDW2QcUdNIA"
      },
      "execution_count": 116,
      "outputs": []
    },
    {
      "cell_type": "markdown",
      "source": [
        "Logistic regression model from sklearn"
      ],
      "metadata": {
        "id": "7d97m4VgdT_9"
      }
    },
    {
      "cell_type": "code",
      "source": [
        "model = LogisticRegression()"
      ],
      "metadata": {
        "id": "mb4dYaGJduPF"
      },
      "execution_count": 117,
      "outputs": []
    },
    {
      "cell_type": "markdown",
      "source": [
        "Predictions are of this type:\n",
        "---\n",
        "| Drug Type | Value |\n",
        "|-----|-|\n",
        "|DrugX|0|\n",
        "|DrugY|2|\n",
        "|DrugA|3|\n",
        "|DrugB|4|\n",
        "|DrugC|1|\n"
      ],
      "metadata": {
        "id": "xk7dZPKAVInZ"
      }
    },
    {
      "cell_type": "markdown",
      "source": [
        "### Testing being part of training dataset"
      ],
      "metadata": {
        "id": "WfO9Yt97iAyS"
      }
    },
    {
      "cell_type": "markdown",
      "source": [
        "Features stored in X from whole dataset"
      ],
      "metadata": {
        "id": "9BpB9ZIceNpr"
      }
    },
    {
      "cell_type": "code",
      "source": [
        "X = [[age[i],sex_[i],bp_[i],chole_[i],nak[i]] for i in range(len(age))]"
      ],
      "metadata": {
        "id": "hbqJf-6weKLX"
      },
      "execution_count": 131,
      "outputs": []
    },
    {
      "cell_type": "markdown",
      "source": [
        "  Train the model with X and y"
      ],
      "metadata": {
        "id": "j9V1b27qerbM"
      }
    },
    {
      "cell_type": "code",
      "source": [
        "model.fit(X, y)"
      ],
      "metadata": {
        "colab": {
          "base_uri": "https://localhost:8080/",
          "height": 220
        },
        "id": "bPivqrKIeoaV",
        "outputId": "affbb72d-41f3-470b-c156-bdba6c262a77"
      },
      "execution_count": 132,
      "outputs": [
        {
          "output_type": "stream",
          "name": "stderr",
          "text": [
            "/usr/local/lib/python3.10/dist-packages/sklearn/linear_model/_logistic.py:458: ConvergenceWarning: lbfgs failed to converge (status=1):\n",
            "STOP: TOTAL NO. of ITERATIONS REACHED LIMIT.\n",
            "\n",
            "Increase the number of iterations (max_iter) or scale the data as shown in:\n",
            "    https://scikit-learn.org/stable/modules/preprocessing.html\n",
            "Please also refer to the documentation for alternative solver options:\n",
            "    https://scikit-learn.org/stable/modules/linear_model.html#logistic-regression\n",
            "  n_iter_i = _check_optimize_result(\n"
          ]
        },
        {
          "output_type": "execute_result",
          "data": {
            "text/plain": [
              "LogisticRegression()"
            ],
            "text/html": [
              "<style>#sk-container-id-17 {color: black;background-color: white;}#sk-container-id-17 pre{padding: 0;}#sk-container-id-17 div.sk-toggleable {background-color: white;}#sk-container-id-17 label.sk-toggleable__label {cursor: pointer;display: block;width: 100%;margin-bottom: 0;padding: 0.3em;box-sizing: border-box;text-align: center;}#sk-container-id-17 label.sk-toggleable__label-arrow:before {content: \"▸\";float: left;margin-right: 0.25em;color: #696969;}#sk-container-id-17 label.sk-toggleable__label-arrow:hover:before {color: black;}#sk-container-id-17 div.sk-estimator:hover label.sk-toggleable__label-arrow:before {color: black;}#sk-container-id-17 div.sk-toggleable__content {max-height: 0;max-width: 0;overflow: hidden;text-align: left;background-color: #f0f8ff;}#sk-container-id-17 div.sk-toggleable__content pre {margin: 0.2em;color: black;border-radius: 0.25em;background-color: #f0f8ff;}#sk-container-id-17 input.sk-toggleable__control:checked~div.sk-toggleable__content {max-height: 200px;max-width: 100%;overflow: auto;}#sk-container-id-17 input.sk-toggleable__control:checked~label.sk-toggleable__label-arrow:before {content: \"▾\";}#sk-container-id-17 div.sk-estimator input.sk-toggleable__control:checked~label.sk-toggleable__label {background-color: #d4ebff;}#sk-container-id-17 div.sk-label input.sk-toggleable__control:checked~label.sk-toggleable__label {background-color: #d4ebff;}#sk-container-id-17 input.sk-hidden--visually {border: 0;clip: rect(1px 1px 1px 1px);clip: rect(1px, 1px, 1px, 1px);height: 1px;margin: -1px;overflow: hidden;padding: 0;position: absolute;width: 1px;}#sk-container-id-17 div.sk-estimator {font-family: monospace;background-color: #f0f8ff;border: 1px dotted black;border-radius: 0.25em;box-sizing: border-box;margin-bottom: 0.5em;}#sk-container-id-17 div.sk-estimator:hover {background-color: #d4ebff;}#sk-container-id-17 div.sk-parallel-item::after {content: \"\";width: 100%;border-bottom: 1px solid gray;flex-grow: 1;}#sk-container-id-17 div.sk-label:hover label.sk-toggleable__label {background-color: #d4ebff;}#sk-container-id-17 div.sk-serial::before {content: \"\";position: absolute;border-left: 1px solid gray;box-sizing: border-box;top: 0;bottom: 0;left: 50%;z-index: 0;}#sk-container-id-17 div.sk-serial {display: flex;flex-direction: column;align-items: center;background-color: white;padding-right: 0.2em;padding-left: 0.2em;position: relative;}#sk-container-id-17 div.sk-item {position: relative;z-index: 1;}#sk-container-id-17 div.sk-parallel {display: flex;align-items: stretch;justify-content: center;background-color: white;position: relative;}#sk-container-id-17 div.sk-item::before, #sk-container-id-17 div.sk-parallel-item::before {content: \"\";position: absolute;border-left: 1px solid gray;box-sizing: border-box;top: 0;bottom: 0;left: 50%;z-index: -1;}#sk-container-id-17 div.sk-parallel-item {display: flex;flex-direction: column;z-index: 1;position: relative;background-color: white;}#sk-container-id-17 div.sk-parallel-item:first-child::after {align-self: flex-end;width: 50%;}#sk-container-id-17 div.sk-parallel-item:last-child::after {align-self: flex-start;width: 50%;}#sk-container-id-17 div.sk-parallel-item:only-child::after {width: 0;}#sk-container-id-17 div.sk-dashed-wrapped {border: 1px dashed gray;margin: 0 0.4em 0.5em 0.4em;box-sizing: border-box;padding-bottom: 0.4em;background-color: white;}#sk-container-id-17 div.sk-label label {font-family: monospace;font-weight: bold;display: inline-block;line-height: 1.2em;}#sk-container-id-17 div.sk-label-container {text-align: center;}#sk-container-id-17 div.sk-container {/* jupyter's `normalize.less` sets `[hidden] { display: none; }` but bootstrap.min.css set `[hidden] { display: none !important; }` so we also need the `!important` here to be able to override the default hidden behavior on the sphinx rendered scikit-learn.org. See: https://github.com/scikit-learn/scikit-learn/issues/21755 */display: inline-block !important;position: relative;}#sk-container-id-17 div.sk-text-repr-fallback {display: none;}</style><div id=\"sk-container-id-17\" class=\"sk-top-container\"><div class=\"sk-text-repr-fallback\"><pre>LogisticRegression()</pre><b>In a Jupyter environment, please rerun this cell to show the HTML representation or trust the notebook. <br />On GitHub, the HTML representation is unable to render, please try loading this page with nbviewer.org.</b></div><div class=\"sk-container\" hidden><div class=\"sk-item\"><div class=\"sk-estimator sk-toggleable\"><input class=\"sk-toggleable__control sk-hidden--visually\" id=\"sk-estimator-id-17\" type=\"checkbox\" checked><label for=\"sk-estimator-id-17\" class=\"sk-toggleable__label sk-toggleable__label-arrow\">LogisticRegression</label><div class=\"sk-toggleable__content\"><pre>LogisticRegression()</pre></div></div></div></div></div>"
            ]
          },
          "metadata": {},
          "execution_count": 132
        }
      ]
    },
    {
      "cell_type": "markdown",
      "source": [
        "Create data from a part of training dataset"
      ],
      "metadata": {
        "id": "2FDKo6Fue_iR"
      }
    },
    {
      "cell_type": "code",
      "source": [
        "new_data = []\n",
        "y_test=[]\n",
        "for i in range(200):\n",
        "  j=random.randint(0,len(age)-1)\n",
        "  new_data.append(X[j])\n",
        "  y_test.append(y[j])\n",
        "\n",
        "new_data_df = pd.DataFrame(new_data, columns=['Age', 'Sex', 'BP', 'Cholesterol', 'Na_to_K'])"
      ],
      "metadata": {
        "id": "lMUd40SyhcR6"
      },
      "execution_count": 133,
      "outputs": []
    },
    {
      "cell_type": "markdown",
      "source": [
        "Make predictions"
      ],
      "metadata": {
        "id": "cFUdCWEofhB1"
      }
    },
    {
      "cell_type": "code",
      "source": [
        "predictions = model.predict(new_data_df)"
      ],
      "metadata": {
        "id": "VwHPpIxufelO",
        "colab": {
          "base_uri": "https://localhost:8080/"
        },
        "outputId": "1aa3529a-1658-4ef2-f89d-f7a16f824be4"
      },
      "execution_count": 134,
      "outputs": [
        {
          "output_type": "stream",
          "name": "stderr",
          "text": [
            "/usr/local/lib/python3.10/dist-packages/sklearn/base.py:432: UserWarning: X has feature names, but LogisticRegression was fitted without feature names\n",
            "  warnings.warn(\n"
          ]
        }
      ]
    },
    {
      "cell_type": "markdown",
      "source": [
        "Print the predictions and compareing to target values\n",
        "\n",
        "\n"
      ],
      "metadata": {
        "id": "79ZzJkk_fkvB"
      }
    },
    {
      "cell_type": "code",
      "source": [
        "for i in range(40):\n",
        "  print( i,\"\\t\\t\",predictions[i],y_test[i])\n"
      ],
      "metadata": {
        "colab": {
          "base_uri": "https://localhost:8080/"
        },
        "id": "qn-EJ28edHp0",
        "outputId": "7fc89dc8-63b1-4d75-dbea-ed9f08303238"
      },
      "execution_count": 135,
      "outputs": [
        {
          "output_type": "stream",
          "name": "stdout",
          "text": [
            "0 \t\t 4 4\n",
            "1 \t\t 2 2\n",
            "2 \t\t 2 2\n",
            "3 \t\t 2 2\n",
            "4 \t\t 0 0\n",
            "5 \t\t 4 4\n",
            "6 \t\t 2 2\n",
            "7 \t\t 2 2\n",
            "8 \t\t 2 2\n",
            "9 \t\t 0 0\n",
            "10 \t\t 0 0\n",
            "11 \t\t 2 2\n",
            "12 \t\t 4 4\n",
            "13 \t\t 4 4\n",
            "14 \t\t 1 1\n",
            "15 \t\t 2 2\n",
            "16 \t\t 2 2\n",
            "17 \t\t 2 2\n",
            "18 \t\t 2 2\n",
            "19 \t\t 0 2\n",
            "20 \t\t 0 0\n",
            "21 \t\t 3 3\n",
            "22 \t\t 3 3\n",
            "23 \t\t 0 0\n",
            "24 \t\t 4 4\n",
            "25 \t\t 2 2\n",
            "26 \t\t 2 2\n",
            "27 \t\t 2 0\n",
            "28 \t\t 2 2\n",
            "29 \t\t 0 0\n",
            "30 \t\t 4 4\n",
            "31 \t\t 3 3\n",
            "32 \t\t 0 0\n",
            "33 \t\t 2 2\n",
            "34 \t\t 1 1\n",
            "35 \t\t 0 0\n",
            "36 \t\t 2 2\n",
            "37 \t\t 2 2\n",
            "38 \t\t 4 4\n",
            "39 \t\t 4 4\n"
          ]
        }
      ]
    },
    {
      "cell_type": "markdown",
      "source": [
        "Accuracy"
      ],
      "metadata": {
        "id": "d1tQEjtVijDT"
      }
    },
    {
      "cell_type": "code",
      "source": [
        "accuracy = accuracy_score(y_test, predictions)\n",
        "print(\"Accuracy:\", accuracy)"
      ],
      "metadata": {
        "colab": {
          "base_uri": "https://localhost:8080/"
        },
        "id": "FvxK0GylhTxZ",
        "outputId": "3925e152-4743-4872-da6c-70ce0a26fc5d"
      },
      "execution_count": 136,
      "outputs": [
        {
          "output_type": "stream",
          "name": "stdout",
          "text": [
            "Accuracy: 0.955\n"
          ]
        }
      ]
    },
    {
      "cell_type": "markdown",
      "source": [
        "### Testing not being part of training dataset"
      ],
      "metadata": {
        "id": "KpHCgfRyhFeB"
      }
    },
    {
      "cell_type": "markdown",
      "source": [
        "Creating seperate datasets for testing and training"
      ],
      "metadata": {
        "id": "n-mfm0Jfi3oB"
      }
    },
    {
      "cell_type": "code",
      "source": [
        "data_={'Age':age,'sex':sex_,'BP':bp_,'Cholesterol':chole_,\"Na_to_K\":nak,'Drug':y}\n",
        "data_=pd.DataFrame(data_)\n",
        "X_train, X_test, y_train, y_test = train_test_split(data_.iloc[:, :-1], data_.iloc[:, -1], test_size=0.2)"
      ],
      "metadata": {
        "id": "ErQhLDTG8OzD"
      },
      "execution_count": 184,
      "outputs": []
    },
    {
      "cell_type": "markdown",
      "source": [
        "Fit model to data"
      ],
      "metadata": {
        "id": "1OS5H3Z3jQ4M"
      }
    },
    {
      "cell_type": "code",
      "source": [
        "model.fit(X_train, y_train)"
      ],
      "metadata": {
        "colab": {
          "base_uri": "https://localhost:8080/",
          "height": 220
        },
        "id": "nDukB6IYjXPi",
        "outputId": "2928fd25-c8cf-429f-df8a-31cb4709f207"
      },
      "execution_count": 185,
      "outputs": [
        {
          "output_type": "stream",
          "name": "stderr",
          "text": [
            "/usr/local/lib/python3.10/dist-packages/sklearn/linear_model/_logistic.py:458: ConvergenceWarning: lbfgs failed to converge (status=1):\n",
            "STOP: TOTAL NO. of ITERATIONS REACHED LIMIT.\n",
            "\n",
            "Increase the number of iterations (max_iter) or scale the data as shown in:\n",
            "    https://scikit-learn.org/stable/modules/preprocessing.html\n",
            "Please also refer to the documentation for alternative solver options:\n",
            "    https://scikit-learn.org/stable/modules/linear_model.html#logistic-regression\n",
            "  n_iter_i = _check_optimize_result(\n"
          ]
        },
        {
          "output_type": "execute_result",
          "data": {
            "text/plain": [
              "LogisticRegression()"
            ],
            "text/html": [
              "<style>#sk-container-id-27 {color: black;background-color: white;}#sk-container-id-27 pre{padding: 0;}#sk-container-id-27 div.sk-toggleable {background-color: white;}#sk-container-id-27 label.sk-toggleable__label {cursor: pointer;display: block;width: 100%;margin-bottom: 0;padding: 0.3em;box-sizing: border-box;text-align: center;}#sk-container-id-27 label.sk-toggleable__label-arrow:before {content: \"▸\";float: left;margin-right: 0.25em;color: #696969;}#sk-container-id-27 label.sk-toggleable__label-arrow:hover:before {color: black;}#sk-container-id-27 div.sk-estimator:hover label.sk-toggleable__label-arrow:before {color: black;}#sk-container-id-27 div.sk-toggleable__content {max-height: 0;max-width: 0;overflow: hidden;text-align: left;background-color: #f0f8ff;}#sk-container-id-27 div.sk-toggleable__content pre {margin: 0.2em;color: black;border-radius: 0.25em;background-color: #f0f8ff;}#sk-container-id-27 input.sk-toggleable__control:checked~div.sk-toggleable__content {max-height: 200px;max-width: 100%;overflow: auto;}#sk-container-id-27 input.sk-toggleable__control:checked~label.sk-toggleable__label-arrow:before {content: \"▾\";}#sk-container-id-27 div.sk-estimator input.sk-toggleable__control:checked~label.sk-toggleable__label {background-color: #d4ebff;}#sk-container-id-27 div.sk-label input.sk-toggleable__control:checked~label.sk-toggleable__label {background-color: #d4ebff;}#sk-container-id-27 input.sk-hidden--visually {border: 0;clip: rect(1px 1px 1px 1px);clip: rect(1px, 1px, 1px, 1px);height: 1px;margin: -1px;overflow: hidden;padding: 0;position: absolute;width: 1px;}#sk-container-id-27 div.sk-estimator {font-family: monospace;background-color: #f0f8ff;border: 1px dotted black;border-radius: 0.25em;box-sizing: border-box;margin-bottom: 0.5em;}#sk-container-id-27 div.sk-estimator:hover {background-color: #d4ebff;}#sk-container-id-27 div.sk-parallel-item::after {content: \"\";width: 100%;border-bottom: 1px solid gray;flex-grow: 1;}#sk-container-id-27 div.sk-label:hover label.sk-toggleable__label {background-color: #d4ebff;}#sk-container-id-27 div.sk-serial::before {content: \"\";position: absolute;border-left: 1px solid gray;box-sizing: border-box;top: 0;bottom: 0;left: 50%;z-index: 0;}#sk-container-id-27 div.sk-serial {display: flex;flex-direction: column;align-items: center;background-color: white;padding-right: 0.2em;padding-left: 0.2em;position: relative;}#sk-container-id-27 div.sk-item {position: relative;z-index: 1;}#sk-container-id-27 div.sk-parallel {display: flex;align-items: stretch;justify-content: center;background-color: white;position: relative;}#sk-container-id-27 div.sk-item::before, #sk-container-id-27 div.sk-parallel-item::before {content: \"\";position: absolute;border-left: 1px solid gray;box-sizing: border-box;top: 0;bottom: 0;left: 50%;z-index: -1;}#sk-container-id-27 div.sk-parallel-item {display: flex;flex-direction: column;z-index: 1;position: relative;background-color: white;}#sk-container-id-27 div.sk-parallel-item:first-child::after {align-self: flex-end;width: 50%;}#sk-container-id-27 div.sk-parallel-item:last-child::after {align-self: flex-start;width: 50%;}#sk-container-id-27 div.sk-parallel-item:only-child::after {width: 0;}#sk-container-id-27 div.sk-dashed-wrapped {border: 1px dashed gray;margin: 0 0.4em 0.5em 0.4em;box-sizing: border-box;padding-bottom: 0.4em;background-color: white;}#sk-container-id-27 div.sk-label label {font-family: monospace;font-weight: bold;display: inline-block;line-height: 1.2em;}#sk-container-id-27 div.sk-label-container {text-align: center;}#sk-container-id-27 div.sk-container {/* jupyter's `normalize.less` sets `[hidden] { display: none; }` but bootstrap.min.css set `[hidden] { display: none !important; }` so we also need the `!important` here to be able to override the default hidden behavior on the sphinx rendered scikit-learn.org. See: https://github.com/scikit-learn/scikit-learn/issues/21755 */display: inline-block !important;position: relative;}#sk-container-id-27 div.sk-text-repr-fallback {display: none;}</style><div id=\"sk-container-id-27\" class=\"sk-top-container\"><div class=\"sk-text-repr-fallback\"><pre>LogisticRegression()</pre><b>In a Jupyter environment, please rerun this cell to show the HTML representation or trust the notebook. <br />On GitHub, the HTML representation is unable to render, please try loading this page with nbviewer.org.</b></div><div class=\"sk-container\" hidden><div class=\"sk-item\"><div class=\"sk-estimator sk-toggleable\"><input class=\"sk-toggleable__control sk-hidden--visually\" id=\"sk-estimator-id-27\" type=\"checkbox\" checked><label for=\"sk-estimator-id-27\" class=\"sk-toggleable__label sk-toggleable__label-arrow\">LogisticRegression</label><div class=\"sk-toggleable__content\"><pre>LogisticRegression()</pre></div></div></div></div></div>"
            ]
          },
          "metadata": {},
          "execution_count": 185
        }
      ]
    },
    {
      "cell_type": "markdown",
      "source": [
        "Make predictions on new data"
      ],
      "metadata": {
        "id": "E6W_D_l0jVAo"
      }
    },
    {
      "cell_type": "code",
      "source": [
        "predictions = model.predict(X_test)"
      ],
      "metadata": {
        "id": "7Ev-xIXej5BB"
      },
      "execution_count": 186,
      "outputs": []
    },
    {
      "cell_type": "markdown",
      "source": [
        "Print the predictions and compareing to target values"
      ],
      "metadata": {
        "id": "AGBC8V4sj58N"
      }
    },
    {
      "cell_type": "code",
      "source": [
        "t=list(dict(y_test).values())\n",
        "for i in range(40):\n",
        "  print( i,\"\\t\\t\",predictions[i],t[i])"
      ],
      "metadata": {
        "colab": {
          "base_uri": "https://localhost:8080/"
        },
        "id": "UmzVBUAekDqE",
        "outputId": "a18197c6-9ff1-4a2f-e088-f713e75a46c2"
      },
      "execution_count": 187,
      "outputs": [
        {
          "output_type": "stream",
          "name": "stdout",
          "text": [
            "0 \t\t 2 2\n",
            "1 \t\t 1 2\n",
            "2 \t\t 2 2\n",
            "3 \t\t 1 1\n",
            "4 \t\t 0 0\n",
            "5 \t\t 2 2\n",
            "6 \t\t 2 2\n",
            "7 \t\t 2 2\n",
            "8 \t\t 0 0\n",
            "9 \t\t 2 2\n",
            "10 \t\t 2 2\n",
            "11 \t\t 2 2\n",
            "12 \t\t 0 0\n",
            "13 \t\t 2 2\n",
            "14 \t\t 3 3\n",
            "15 \t\t 0 0\n",
            "16 \t\t 0 0\n",
            "17 \t\t 1 1\n",
            "18 \t\t 2 2\n",
            "19 \t\t 2 2\n",
            "20 \t\t 0 0\n",
            "21 \t\t 0 0\n",
            "22 \t\t 3 3\n",
            "23 \t\t 0 0\n",
            "24 \t\t 2 2\n",
            "25 \t\t 4 4\n",
            "26 \t\t 0 0\n",
            "27 \t\t 0 0\n",
            "28 \t\t 2 0\n",
            "29 \t\t 3 3\n",
            "30 \t\t 0 0\n",
            "31 \t\t 1 1\n",
            "32 \t\t 2 2\n",
            "33 \t\t 4 4\n",
            "34 \t\t 2 2\n",
            "35 \t\t 2 2\n",
            "36 \t\t 2 0\n",
            "37 \t\t 1 1\n",
            "38 \t\t 2 2\n",
            "39 \t\t 2 2\n"
          ]
        }
      ]
    },
    {
      "cell_type": "markdown",
      "source": [
        "Print the accuracy of the model"
      ],
      "metadata": {
        "id": "dWpDTxGHkCF5"
      }
    },
    {
      "cell_type": "code",
      "source": [
        "accuracy = accuracy_score(y_test, predictions)\n",
        "print(\"Accuracy:\", accuracy)"
      ],
      "metadata": {
        "colab": {
          "base_uri": "https://localhost:8080/"
        },
        "id": "yJ4EfEM31fvu",
        "outputId": "bcb08995-ca45-4d63-d23f-dd92ea8d172c"
      },
      "execution_count": 188,
      "outputs": [
        {
          "output_type": "stream",
          "name": "stdout",
          "text": [
            "Accuracy: 0.925\n"
          ]
        }
      ]
    },
    {
      "cell_type": "code",
      "source": [],
      "metadata": {
        "id": "P7wFBJ4Vkr96"
      },
      "execution_count": 158,
      "outputs": []
    }
  ]
}