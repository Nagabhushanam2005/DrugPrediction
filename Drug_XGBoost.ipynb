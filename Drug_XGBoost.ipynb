{
  "nbformat": 4,
  "nbformat_minor": 0,
  "metadata": {
    "colab": {
      "provenance": []
    },
    "kernelspec": {
      "name": "python3",
      "display_name": "Python 3"
    },
    "language_info": {
      "name": "python"
    }
  },
  "cells": [
    {
      "cell_type": "code",
      "execution_count": 1,
      "metadata": {
        "colab": {
          "base_uri": "https://localhost:8080/"
        },
        "id": "wKV0Ro-GseNO",
        "outputId": "d1f913da-8c83-425c-fda7-aeb2004feddf"
      },
      "outputs": [
        {
          "output_type": "stream",
          "name": "stdout",
          "text": [
            "Mounted at /content/drive\n"
          ]
        }
      ],
      "source": [
        "from google.colab import drive\n",
        "drive.mount(\"/content/drive\")"
      ]
    },
    {
      "cell_type": "code",
      "source": [
        "import pandas as pd\n",
        "from sklearn.metrics import accuracy_score\n",
        "from sklearn.model_selection import train_test_split\n",
        "import random\n",
        "import xgboost"
      ],
      "metadata": {
        "id": "64L4RRH1tX5H"
      },
      "execution_count": 2,
      "outputs": []
    },
    {
      "cell_type": "markdown",
      "source": [
        "**Load data from CSV file**"
      ],
      "metadata": {
        "id": "fUXXNF2Tcmvh"
      }
    },
    {
      "cell_type": "code",
      "source": [
        "data = pd.read_csv('/content/drive/MyDrive/Drug_Assignment/drug200.csv')"
      ],
      "metadata": {
        "id": "QxnmCci8cucl"
      },
      "execution_count": 3,
      "outputs": []
    },
    {
      "cell_type": "markdown",
      "source": [
        "**Modify data to have the given features and target values**\n"
      ],
      "metadata": {
        "id": "HztpK57WczUu"
      }
    },
    {
      "cell_type": "code",
      "source": [
        "age=data['Age']\n",
        "sex=data['Sex']\n",
        "bp=data['BP']\n",
        "chole=data['Cholesterol']\n",
        "nak=data['Na_to_K']\n",
        "sex_=[1 if i=='M' else 0 for i in sex]\n",
        "bp_=[1 if i=='HIGH' else( 0 if i=='NORMAL' else -1) for i in bp]\n",
        "chole_=[1 if i=='HIGH' else 0 for i in chole]\n",
        "arr2=list(data['Drug'])\n",
        "j=0\n",
        "y=[]\n",
        "for i in arr2:\n",
        "  if(i[-1]=='X'):\n",
        "    y.append(0)\n",
        "    j+=1\n",
        "  if(i[-1]=='Y'):\n",
        "    y.append(2)\n",
        "    j+=1\n",
        "  if(i[-1]=='A'):\n",
        "    y.append(3)\n",
        "    j+=1\n",
        "  if(i[-1]=='B'):\n",
        "    y.append(4)\n",
        "    j+=1\n",
        "  if(i[-1]=='C'):\n",
        "    y.append(1)\n",
        "    j+=1"
      ],
      "metadata": {
        "id": "opDW2QcUdNIA"
      },
      "execution_count": 4,
      "outputs": []
    },
    {
      "cell_type": "markdown",
      "source": [
        "XGBoost from xgboost library"
      ],
      "metadata": {
        "id": "W7lOwaSAwlu0"
      }
    },
    {
      "cell_type": "code",
      "source": [
        "model = xgboost.XGBClassifier()"
      ],
      "metadata": {
        "id": "XaULfHIYws2D"
      },
      "execution_count": 5,
      "outputs": []
    },
    {
      "cell_type": "markdown",
      "source": [
        "Predictions are of this type:\n",
        "---\n",
        "| Drug Type | Value |\n",
        "|-----|-|\n",
        "|DrugX|0|\n",
        "|DrugY|2|\n",
        "|DrugA|3|\n",
        "|DrugB|4|\n",
        "|DrugC|1|\n"
      ],
      "metadata": {
        "id": "xk7dZPKAVInZ"
      }
    },
    {
      "cell_type": "markdown",
      "source": [
        "### Testing being part of training dataset"
      ],
      "metadata": {
        "id": "WfO9Yt97iAyS"
      }
    },
    {
      "cell_type": "markdown",
      "source": [
        "Features stored in X from whole dataset"
      ],
      "metadata": {
        "id": "9BpB9ZIceNpr"
      }
    },
    {
      "cell_type": "code",
      "source": [
        "X = [[age[i],sex_[i],bp_[i],chole_[i],nak[i]] for i in range(len(age))]"
      ],
      "metadata": {
        "id": "hbqJf-6weKLX"
      },
      "execution_count": 6,
      "outputs": []
    },
    {
      "cell_type": "markdown",
      "source": [
        "  Train the model with X and y"
      ],
      "metadata": {
        "id": "j9V1b27qerbM"
      }
    },
    {
      "cell_type": "code",
      "source": [
        "model.fit(X, y)"
      ],
      "metadata": {
        "colab": {
          "base_uri": "https://localhost:8080/",
          "height": 248
        },
        "id": "bPivqrKIeoaV",
        "outputId": "046304f6-64f5-4649-bb85-be8580373fdc"
      },
      "execution_count": 7,
      "outputs": [
        {
          "output_type": "execute_result",
          "data": {
            "text/plain": [
              "XGBClassifier(base_score=None, booster=None, callbacks=None,\n",
              "              colsample_bylevel=None, colsample_bynode=None,\n",
              "              colsample_bytree=None, device=None, early_stopping_rounds=None,\n",
              "              enable_categorical=False, eval_metric=None, feature_types=None,\n",
              "              gamma=None, grow_policy=None, importance_type=None,\n",
              "              interaction_constraints=None, learning_rate=None, max_bin=None,\n",
              "              max_cat_threshold=None, max_cat_to_onehot=None,\n",
              "              max_delta_step=None, max_depth=None, max_leaves=None,\n",
              "              min_child_weight=None, missing=nan, monotone_constraints=None,\n",
              "              multi_strategy=None, n_estimators=None, n_jobs=None,\n",
              "              num_parallel_tree=None, objective='multi:softprob', ...)"
            ],
            "text/html": [
              "<style>#sk-container-id-1 {color: black;background-color: white;}#sk-container-id-1 pre{padding: 0;}#sk-container-id-1 div.sk-toggleable {background-color: white;}#sk-container-id-1 label.sk-toggleable__label {cursor: pointer;display: block;width: 100%;margin-bottom: 0;padding: 0.3em;box-sizing: border-box;text-align: center;}#sk-container-id-1 label.sk-toggleable__label-arrow:before {content: \"▸\";float: left;margin-right: 0.25em;color: #696969;}#sk-container-id-1 label.sk-toggleable__label-arrow:hover:before {color: black;}#sk-container-id-1 div.sk-estimator:hover label.sk-toggleable__label-arrow:before {color: black;}#sk-container-id-1 div.sk-toggleable__content {max-height: 0;max-width: 0;overflow: hidden;text-align: left;background-color: #f0f8ff;}#sk-container-id-1 div.sk-toggleable__content pre {margin: 0.2em;color: black;border-radius: 0.25em;background-color: #f0f8ff;}#sk-container-id-1 input.sk-toggleable__control:checked~div.sk-toggleable__content {max-height: 200px;max-width: 100%;overflow: auto;}#sk-container-id-1 input.sk-toggleable__control:checked~label.sk-toggleable__label-arrow:before {content: \"▾\";}#sk-container-id-1 div.sk-estimator input.sk-toggleable__control:checked~label.sk-toggleable__label {background-color: #d4ebff;}#sk-container-id-1 div.sk-label input.sk-toggleable__control:checked~label.sk-toggleable__label {background-color: #d4ebff;}#sk-container-id-1 input.sk-hidden--visually {border: 0;clip: rect(1px 1px 1px 1px);clip: rect(1px, 1px, 1px, 1px);height: 1px;margin: -1px;overflow: hidden;padding: 0;position: absolute;width: 1px;}#sk-container-id-1 div.sk-estimator {font-family: monospace;background-color: #f0f8ff;border: 1px dotted black;border-radius: 0.25em;box-sizing: border-box;margin-bottom: 0.5em;}#sk-container-id-1 div.sk-estimator:hover {background-color: #d4ebff;}#sk-container-id-1 div.sk-parallel-item::after {content: \"\";width: 100%;border-bottom: 1px solid gray;flex-grow: 1;}#sk-container-id-1 div.sk-label:hover label.sk-toggleable__label {background-color: #d4ebff;}#sk-container-id-1 div.sk-serial::before {content: \"\";position: absolute;border-left: 1px solid gray;box-sizing: border-box;top: 0;bottom: 0;left: 50%;z-index: 0;}#sk-container-id-1 div.sk-serial {display: flex;flex-direction: column;align-items: center;background-color: white;padding-right: 0.2em;padding-left: 0.2em;position: relative;}#sk-container-id-1 div.sk-item {position: relative;z-index: 1;}#sk-container-id-1 div.sk-parallel {display: flex;align-items: stretch;justify-content: center;background-color: white;position: relative;}#sk-container-id-1 div.sk-item::before, #sk-container-id-1 div.sk-parallel-item::before {content: \"\";position: absolute;border-left: 1px solid gray;box-sizing: border-box;top: 0;bottom: 0;left: 50%;z-index: -1;}#sk-container-id-1 div.sk-parallel-item {display: flex;flex-direction: column;z-index: 1;position: relative;background-color: white;}#sk-container-id-1 div.sk-parallel-item:first-child::after {align-self: flex-end;width: 50%;}#sk-container-id-1 div.sk-parallel-item:last-child::after {align-self: flex-start;width: 50%;}#sk-container-id-1 div.sk-parallel-item:only-child::after {width: 0;}#sk-container-id-1 div.sk-dashed-wrapped {border: 1px dashed gray;margin: 0 0.4em 0.5em 0.4em;box-sizing: border-box;padding-bottom: 0.4em;background-color: white;}#sk-container-id-1 div.sk-label label {font-family: monospace;font-weight: bold;display: inline-block;line-height: 1.2em;}#sk-container-id-1 div.sk-label-container {text-align: center;}#sk-container-id-1 div.sk-container {/* jupyter's `normalize.less` sets `[hidden] { display: none; }` but bootstrap.min.css set `[hidden] { display: none !important; }` so we also need the `!important` here to be able to override the default hidden behavior on the sphinx rendered scikit-learn.org. See: https://github.com/scikit-learn/scikit-learn/issues/21755 */display: inline-block !important;position: relative;}#sk-container-id-1 div.sk-text-repr-fallback {display: none;}</style><div id=\"sk-container-id-1\" class=\"sk-top-container\"><div class=\"sk-text-repr-fallback\"><pre>XGBClassifier(base_score=None, booster=None, callbacks=None,\n",
              "              colsample_bylevel=None, colsample_bynode=None,\n",
              "              colsample_bytree=None, device=None, early_stopping_rounds=None,\n",
              "              enable_categorical=False, eval_metric=None, feature_types=None,\n",
              "              gamma=None, grow_policy=None, importance_type=None,\n",
              "              interaction_constraints=None, learning_rate=None, max_bin=None,\n",
              "              max_cat_threshold=None, max_cat_to_onehot=None,\n",
              "              max_delta_step=None, max_depth=None, max_leaves=None,\n",
              "              min_child_weight=None, missing=nan, monotone_constraints=None,\n",
              "              multi_strategy=None, n_estimators=None, n_jobs=None,\n",
              "              num_parallel_tree=None, objective=&#x27;multi:softprob&#x27;, ...)</pre><b>In a Jupyter environment, please rerun this cell to show the HTML representation or trust the notebook. <br />On GitHub, the HTML representation is unable to render, please try loading this page with nbviewer.org.</b></div><div class=\"sk-container\" hidden><div class=\"sk-item\"><div class=\"sk-estimator sk-toggleable\"><input class=\"sk-toggleable__control sk-hidden--visually\" id=\"sk-estimator-id-1\" type=\"checkbox\" checked><label for=\"sk-estimator-id-1\" class=\"sk-toggleable__label sk-toggleable__label-arrow\">XGBClassifier</label><div class=\"sk-toggleable__content\"><pre>XGBClassifier(base_score=None, booster=None, callbacks=None,\n",
              "              colsample_bylevel=None, colsample_bynode=None,\n",
              "              colsample_bytree=None, device=None, early_stopping_rounds=None,\n",
              "              enable_categorical=False, eval_metric=None, feature_types=None,\n",
              "              gamma=None, grow_policy=None, importance_type=None,\n",
              "              interaction_constraints=None, learning_rate=None, max_bin=None,\n",
              "              max_cat_threshold=None, max_cat_to_onehot=None,\n",
              "              max_delta_step=None, max_depth=None, max_leaves=None,\n",
              "              min_child_weight=None, missing=nan, monotone_constraints=None,\n",
              "              multi_strategy=None, n_estimators=None, n_jobs=None,\n",
              "              num_parallel_tree=None, objective=&#x27;multi:softprob&#x27;, ...)</pre></div></div></div></div></div>"
            ]
          },
          "metadata": {},
          "execution_count": 7
        }
      ]
    },
    {
      "cell_type": "markdown",
      "source": [
        "Create data from a part of training dataset"
      ],
      "metadata": {
        "id": "2FDKo6Fue_iR"
      }
    },
    {
      "cell_type": "code",
      "source": [
        "new_data = []\n",
        "y_test=[]\n",
        "for i in range(200):\n",
        "  j=random.randint(0,len(age)-1)\n",
        "  new_data.append(X[j])\n",
        "  y_test.append(y[j])\n",
        "\n",
        "new_data_df = pd.DataFrame(new_data, columns=['Age', 'Sex', 'BP', 'Cholesterol', 'Na_to_K'])"
      ],
      "metadata": {
        "id": "lMUd40SyhcR6"
      },
      "execution_count": 8,
      "outputs": []
    },
    {
      "cell_type": "markdown",
      "source": [
        "Make predictions"
      ],
      "metadata": {
        "id": "cFUdCWEofhB1"
      }
    },
    {
      "cell_type": "code",
      "source": [
        "predictions = model.predict(new_data_df)"
      ],
      "metadata": {
        "id": "VwHPpIxufelO"
      },
      "execution_count": 9,
      "outputs": []
    },
    {
      "cell_type": "markdown",
      "source": [
        "Print the predictions and compareing to target values\n",
        "\n",
        "\n"
      ],
      "metadata": {
        "id": "79ZzJkk_fkvB"
      }
    },
    {
      "cell_type": "code",
      "source": [
        "for i in range(40):\n",
        "  print( i,\"\\t\\t\",predictions[i],y_test[i])\n"
      ],
      "metadata": {
        "colab": {
          "base_uri": "https://localhost:8080/"
        },
        "id": "qn-EJ28edHp0",
        "outputId": "9036bde3-3612-42ed-c3c1-0205627006d4"
      },
      "execution_count": 10,
      "outputs": [
        {
          "output_type": "stream",
          "name": "stdout",
          "text": [
            "0 \t\t 2 2\n",
            "1 \t\t 2 2\n",
            "2 \t\t 2 2\n",
            "3 \t\t 2 2\n",
            "4 \t\t 2 2\n",
            "5 \t\t 2 2\n",
            "6 \t\t 3 3\n",
            "7 \t\t 0 0\n",
            "8 \t\t 3 3\n",
            "9 \t\t 1 1\n",
            "10 \t\t 2 2\n",
            "11 \t\t 2 2\n",
            "12 \t\t 2 2\n",
            "13 \t\t 2 2\n",
            "14 \t\t 3 3\n",
            "15 \t\t 0 0\n",
            "16 \t\t 2 2\n",
            "17 \t\t 2 2\n",
            "18 \t\t 2 2\n",
            "19 \t\t 2 2\n",
            "20 \t\t 3 3\n",
            "21 \t\t 2 2\n",
            "22 \t\t 1 1\n",
            "23 \t\t 0 0\n",
            "24 \t\t 2 2\n",
            "25 \t\t 2 2\n",
            "26 \t\t 4 4\n",
            "27 \t\t 2 2\n",
            "28 \t\t 3 3\n",
            "29 \t\t 4 4\n",
            "30 \t\t 1 1\n",
            "31 \t\t 4 4\n",
            "32 \t\t 1 1\n",
            "33 \t\t 1 1\n",
            "34 \t\t 0 0\n",
            "35 \t\t 2 2\n",
            "36 \t\t 2 2\n",
            "37 \t\t 2 2\n",
            "38 \t\t 3 3\n",
            "39 \t\t 3 3\n"
          ]
        }
      ]
    },
    {
      "cell_type": "markdown",
      "source": [
        "Accuracy"
      ],
      "metadata": {
        "id": "d1tQEjtVijDT"
      }
    },
    {
      "cell_type": "code",
      "source": [
        "accuracy = accuracy_score(y_test, predictions)\n",
        "print(\"Accuracy:\", accuracy)"
      ],
      "metadata": {
        "colab": {
          "base_uri": "https://localhost:8080/"
        },
        "id": "FvxK0GylhTxZ",
        "outputId": "9fdc490c-17f6-40ac-87ae-b7873c42dadb"
      },
      "execution_count": 11,
      "outputs": [
        {
          "output_type": "stream",
          "name": "stdout",
          "text": [
            "Accuracy: 1.0\n"
          ]
        }
      ]
    },
    {
      "cell_type": "markdown",
      "source": [
        "### Testing not being part of training dataset"
      ],
      "metadata": {
        "id": "KpHCgfRyhFeB"
      }
    },
    {
      "cell_type": "markdown",
      "source": [
        "Creating seperate datasets for testing and training"
      ],
      "metadata": {
        "id": "n-mfm0Jfi3oB"
      }
    },
    {
      "cell_type": "code",
      "source": [
        "data_={'Age':age,'sex':sex_,'BP':bp_,'Cholesterol':chole_,\"Na_to_K\":nak,'Drug':y}\n",
        "data_=pd.DataFrame(data_)\n",
        "X_train, X_test, y_train, y_test = train_test_split(data_.iloc[:, :-1], data_.iloc[:, -1], test_size=0.2)"
      ],
      "metadata": {
        "id": "ErQhLDTG8OzD"
      },
      "execution_count": 17,
      "outputs": []
    },
    {
      "cell_type": "markdown",
      "source": [
        "Fit model to data"
      ],
      "metadata": {
        "id": "1OS5H3Z3jQ4M"
      }
    },
    {
      "cell_type": "code",
      "source": [
        "model.fit(X_train, y_train)"
      ],
      "metadata": {
        "colab": {
          "base_uri": "https://localhost:8080/",
          "height": 248
        },
        "id": "nDukB6IYjXPi",
        "outputId": "09368543-5da7-4230-913e-51d1552a6b99"
      },
      "execution_count": 18,
      "outputs": [
        {
          "output_type": "execute_result",
          "data": {
            "text/plain": [
              "XGBClassifier(base_score=None, booster=None, callbacks=None,\n",
              "              colsample_bylevel=None, colsample_bynode=None,\n",
              "              colsample_bytree=None, device=None, early_stopping_rounds=None,\n",
              "              enable_categorical=False, eval_metric=None, feature_types=None,\n",
              "              gamma=None, grow_policy=None, importance_type=None,\n",
              "              interaction_constraints=None, learning_rate=None, max_bin=None,\n",
              "              max_cat_threshold=None, max_cat_to_onehot=None,\n",
              "              max_delta_step=None, max_depth=None, max_leaves=None,\n",
              "              min_child_weight=None, missing=nan, monotone_constraints=None,\n",
              "              multi_strategy=None, n_estimators=None, n_jobs=None,\n",
              "              num_parallel_tree=None, objective='multi:softprob', ...)"
            ],
            "text/html": [
              "<style>#sk-container-id-3 {color: black;background-color: white;}#sk-container-id-3 pre{padding: 0;}#sk-container-id-3 div.sk-toggleable {background-color: white;}#sk-container-id-3 label.sk-toggleable__label {cursor: pointer;display: block;width: 100%;margin-bottom: 0;padding: 0.3em;box-sizing: border-box;text-align: center;}#sk-container-id-3 label.sk-toggleable__label-arrow:before {content: \"▸\";float: left;margin-right: 0.25em;color: #696969;}#sk-container-id-3 label.sk-toggleable__label-arrow:hover:before {color: black;}#sk-container-id-3 div.sk-estimator:hover label.sk-toggleable__label-arrow:before {color: black;}#sk-container-id-3 div.sk-toggleable__content {max-height: 0;max-width: 0;overflow: hidden;text-align: left;background-color: #f0f8ff;}#sk-container-id-3 div.sk-toggleable__content pre {margin: 0.2em;color: black;border-radius: 0.25em;background-color: #f0f8ff;}#sk-container-id-3 input.sk-toggleable__control:checked~div.sk-toggleable__content {max-height: 200px;max-width: 100%;overflow: auto;}#sk-container-id-3 input.sk-toggleable__control:checked~label.sk-toggleable__label-arrow:before {content: \"▾\";}#sk-container-id-3 div.sk-estimator input.sk-toggleable__control:checked~label.sk-toggleable__label {background-color: #d4ebff;}#sk-container-id-3 div.sk-label input.sk-toggleable__control:checked~label.sk-toggleable__label {background-color: #d4ebff;}#sk-container-id-3 input.sk-hidden--visually {border: 0;clip: rect(1px 1px 1px 1px);clip: rect(1px, 1px, 1px, 1px);height: 1px;margin: -1px;overflow: hidden;padding: 0;position: absolute;width: 1px;}#sk-container-id-3 div.sk-estimator {font-family: monospace;background-color: #f0f8ff;border: 1px dotted black;border-radius: 0.25em;box-sizing: border-box;margin-bottom: 0.5em;}#sk-container-id-3 div.sk-estimator:hover {background-color: #d4ebff;}#sk-container-id-3 div.sk-parallel-item::after {content: \"\";width: 100%;border-bottom: 1px solid gray;flex-grow: 1;}#sk-container-id-3 div.sk-label:hover label.sk-toggleable__label {background-color: #d4ebff;}#sk-container-id-3 div.sk-serial::before {content: \"\";position: absolute;border-left: 1px solid gray;box-sizing: border-box;top: 0;bottom: 0;left: 50%;z-index: 0;}#sk-container-id-3 div.sk-serial {display: flex;flex-direction: column;align-items: center;background-color: white;padding-right: 0.2em;padding-left: 0.2em;position: relative;}#sk-container-id-3 div.sk-item {position: relative;z-index: 1;}#sk-container-id-3 div.sk-parallel {display: flex;align-items: stretch;justify-content: center;background-color: white;position: relative;}#sk-container-id-3 div.sk-item::before, #sk-container-id-3 div.sk-parallel-item::before {content: \"\";position: absolute;border-left: 1px solid gray;box-sizing: border-box;top: 0;bottom: 0;left: 50%;z-index: -1;}#sk-container-id-3 div.sk-parallel-item {display: flex;flex-direction: column;z-index: 1;position: relative;background-color: white;}#sk-container-id-3 div.sk-parallel-item:first-child::after {align-self: flex-end;width: 50%;}#sk-container-id-3 div.sk-parallel-item:last-child::after {align-self: flex-start;width: 50%;}#sk-container-id-3 div.sk-parallel-item:only-child::after {width: 0;}#sk-container-id-3 div.sk-dashed-wrapped {border: 1px dashed gray;margin: 0 0.4em 0.5em 0.4em;box-sizing: border-box;padding-bottom: 0.4em;background-color: white;}#sk-container-id-3 div.sk-label label {font-family: monospace;font-weight: bold;display: inline-block;line-height: 1.2em;}#sk-container-id-3 div.sk-label-container {text-align: center;}#sk-container-id-3 div.sk-container {/* jupyter's `normalize.less` sets `[hidden] { display: none; }` but bootstrap.min.css set `[hidden] { display: none !important; }` so we also need the `!important` here to be able to override the default hidden behavior on the sphinx rendered scikit-learn.org. See: https://github.com/scikit-learn/scikit-learn/issues/21755 */display: inline-block !important;position: relative;}#sk-container-id-3 div.sk-text-repr-fallback {display: none;}</style><div id=\"sk-container-id-3\" class=\"sk-top-container\"><div class=\"sk-text-repr-fallback\"><pre>XGBClassifier(base_score=None, booster=None, callbacks=None,\n",
              "              colsample_bylevel=None, colsample_bynode=None,\n",
              "              colsample_bytree=None, device=None, early_stopping_rounds=None,\n",
              "              enable_categorical=False, eval_metric=None, feature_types=None,\n",
              "              gamma=None, grow_policy=None, importance_type=None,\n",
              "              interaction_constraints=None, learning_rate=None, max_bin=None,\n",
              "              max_cat_threshold=None, max_cat_to_onehot=None,\n",
              "              max_delta_step=None, max_depth=None, max_leaves=None,\n",
              "              min_child_weight=None, missing=nan, monotone_constraints=None,\n",
              "              multi_strategy=None, n_estimators=None, n_jobs=None,\n",
              "              num_parallel_tree=None, objective=&#x27;multi:softprob&#x27;, ...)</pre><b>In a Jupyter environment, please rerun this cell to show the HTML representation or trust the notebook. <br />On GitHub, the HTML representation is unable to render, please try loading this page with nbviewer.org.</b></div><div class=\"sk-container\" hidden><div class=\"sk-item\"><div class=\"sk-estimator sk-toggleable\"><input class=\"sk-toggleable__control sk-hidden--visually\" id=\"sk-estimator-id-3\" type=\"checkbox\" checked><label for=\"sk-estimator-id-3\" class=\"sk-toggleable__label sk-toggleable__label-arrow\">XGBClassifier</label><div class=\"sk-toggleable__content\"><pre>XGBClassifier(base_score=None, booster=None, callbacks=None,\n",
              "              colsample_bylevel=None, colsample_bynode=None,\n",
              "              colsample_bytree=None, device=None, early_stopping_rounds=None,\n",
              "              enable_categorical=False, eval_metric=None, feature_types=None,\n",
              "              gamma=None, grow_policy=None, importance_type=None,\n",
              "              interaction_constraints=None, learning_rate=None, max_bin=None,\n",
              "              max_cat_threshold=None, max_cat_to_onehot=None,\n",
              "              max_delta_step=None, max_depth=None, max_leaves=None,\n",
              "              min_child_weight=None, missing=nan, monotone_constraints=None,\n",
              "              multi_strategy=None, n_estimators=None, n_jobs=None,\n",
              "              num_parallel_tree=None, objective=&#x27;multi:softprob&#x27;, ...)</pre></div></div></div></div></div>"
            ]
          },
          "metadata": {},
          "execution_count": 18
        }
      ]
    },
    {
      "cell_type": "markdown",
      "source": [
        "Make predictions on new data"
      ],
      "metadata": {
        "id": "E6W_D_l0jVAo"
      }
    },
    {
      "cell_type": "code",
      "source": [
        "predictions = model.predict(X_test)"
      ],
      "metadata": {
        "id": "7Ev-xIXej5BB"
      },
      "execution_count": 19,
      "outputs": []
    },
    {
      "cell_type": "markdown",
      "source": [
        "Print the predictions and compareing to target values"
      ],
      "metadata": {
        "id": "AGBC8V4sj58N"
      }
    },
    {
      "cell_type": "code",
      "source": [
        "t=list(dict(y_test).values())\n",
        "for i in range(40):\n",
        "  print( i,\"\\t\\t\",predictions[i],t[i])"
      ],
      "metadata": {
        "colab": {
          "base_uri": "https://localhost:8080/"
        },
        "id": "UmzVBUAekDqE",
        "outputId": "f7e40e59-36ea-4688-c3d9-0cc051a89dc1"
      },
      "execution_count": 20,
      "outputs": [
        {
          "output_type": "stream",
          "name": "stdout",
          "text": [
            "0 \t\t 0 0\n",
            "1 \t\t 2 2\n",
            "2 \t\t 2 2\n",
            "3 \t\t 2 2\n",
            "4 \t\t 0 0\n",
            "5 \t\t 2 2\n",
            "6 \t\t 4 4\n",
            "7 \t\t 0 0\n",
            "8 \t\t 2 2\n",
            "9 \t\t 2 2\n",
            "10 \t\t 0 0\n",
            "11 \t\t 4 4\n",
            "12 \t\t 4 4\n",
            "13 \t\t 2 2\n",
            "14 \t\t 3 3\n",
            "15 \t\t 0 0\n",
            "16 \t\t 2 2\n",
            "17 \t\t 0 0\n",
            "18 \t\t 2 2\n",
            "19 \t\t 0 0\n",
            "20 \t\t 2 2\n",
            "21 \t\t 3 3\n",
            "22 \t\t 2 2\n",
            "23 \t\t 0 0\n",
            "24 \t\t 0 0\n",
            "25 \t\t 2 2\n",
            "26 \t\t 3 3\n",
            "27 \t\t 4 0\n",
            "28 \t\t 2 2\n",
            "29 \t\t 2 2\n",
            "30 \t\t 0 0\n",
            "31 \t\t 2 2\n",
            "32 \t\t 2 2\n",
            "33 \t\t 4 4\n",
            "34 \t\t 2 2\n",
            "35 \t\t 2 2\n",
            "36 \t\t 0 0\n",
            "37 \t\t 2 2\n",
            "38 \t\t 2 2\n",
            "39 \t\t 1 1\n"
          ]
        }
      ]
    },
    {
      "cell_type": "markdown",
      "source": [
        "Print the accuracy of the model"
      ],
      "metadata": {
        "id": "dWpDTxGHkCF5"
      }
    },
    {
      "cell_type": "code",
      "source": [
        "accuracy = accuracy_score(y_test, predictions)\n",
        "print(\"Accuracy:\", accuracy)"
      ],
      "metadata": {
        "colab": {
          "base_uri": "https://localhost:8080/"
        },
        "id": "yJ4EfEM31fvu",
        "outputId": "38e14fa8-9224-42ad-9c70-ef0a3baa37b5"
      },
      "execution_count": 21,
      "outputs": [
        {
          "output_type": "stream",
          "name": "stdout",
          "text": [
            "Accuracy: 0.975\n"
          ]
        }
      ]
    },
    {
      "cell_type": "code",
      "source": [],
      "metadata": {
        "id": "P7wFBJ4Vkr96"
      },
      "execution_count": null,
      "outputs": []
    }
  ]
}